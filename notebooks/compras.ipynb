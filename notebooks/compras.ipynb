{
 "cells": [
  {
   "cell_type": "code",
   "execution_count": 1,
   "id": "7d7e7564",
   "metadata": {},
   "outputs": [],
   "source": [
    "import pandas as pd \n",
    "import numpy as np \n",
    "import matplotlib.pyplot as plt "
   ]
  },
  {
   "cell_type": "code",
   "execution_count": 2,
   "id": "9a2b2df9",
   "metadata": {},
   "outputs": [
    {
     "name": "stdout",
     "output_type": "stream",
     "text": [
      "<class 'pandas.core.frame.DataFrame'>\n",
      "RangeIndex: 478967 entries, 0 to 478966\n",
      "Data columns (total 6 columns):\n",
      " #   Column                  Non-Null Count   Dtype  \n",
      "---  ------                  --------------   -----  \n",
      " 0   order_id                478967 non-null  int64  \n",
      " 1   user_id                 478967 non-null  int64  \n",
      " 2   order_number            478967 non-null  int64  \n",
      " 3   order_dow               478967 non-null  int64  \n",
      " 4   order_hour_of_day       478967 non-null  int64  \n",
      " 5   days_since_prior_order  450148 non-null  float64\n",
      "dtypes: float64(1), int64(5)\n",
      "memory usage: 21.9 MB\n"
     ]
    }
   ],
   "source": [
    "orders = pd.read_csv('instacart_orders.csv', sep=';')\n",
    "orders.info( )"
   ]
  },
  {
   "cell_type": "code",
   "execution_count": 3,
   "id": "be9448d5",
   "metadata": {},
   "outputs": [
    {
     "data": {
      "text/plain": [
       "<bound method DataFrame.info of        product_id                                       product_name  \\\n",
       "0               1                         Chocolate Sandwich Cookies   \n",
       "1               2                                   All-Seasons Salt   \n",
       "2               3               Robust Golden Unsweetened Oolong Tea   \n",
       "3               4  Smart Ones Classic Favorites Mini Rigatoni Wit...   \n",
       "4               5                          Green Chile Anytime Sauce   \n",
       "...           ...                                                ...   \n",
       "49689       49690                      HIGH PERFORMANCE ENERGY DRINK   \n",
       "49690       49691                      ORIGINAL PANCAKE & WAFFLE MIX   \n",
       "49691       49692    ORGANIC INSTANT OATMEAL LIGHT MAPLE BROWN SUGAR   \n",
       "49692       49693                             SPRING WATER BODY WASH   \n",
       "49693       49694                            BURRITO- STEAK & CHEESE   \n",
       "\n",
       "       aisle_id  department_id  \n",
       "0            61             19  \n",
       "1           104             13  \n",
       "2            94              7  \n",
       "3            38              1  \n",
       "4             5             13  \n",
       "...         ...            ...  \n",
       "49689        64              7  \n",
       "49690       130             14  \n",
       "49691       130             14  \n",
       "49692       127             11  \n",
       "49693        38              1  \n",
       "\n",
       "[49694 rows x 4 columns]>"
      ]
     },
     "execution_count": 3,
     "metadata": {},
     "output_type": "execute_result"
    }
   ],
   "source": [
    "products = pd.read_csv('products.csv', sep=';')\n",
    "products.info"
   ]
  },
  {
   "cell_type": "code",
   "execution_count": 6,
   "id": "2f0f4479",
   "metadata": {},
   "outputs": [
    {
     "name": "stdout",
     "output_type": "stream",
     "text": [
      "<class 'pandas.core.frame.DataFrame'>\n",
      "RangeIndex: 134 entries, 0 to 133\n",
      "Data columns (total 2 columns):\n",
      " #   Column    Non-Null Count  Dtype \n",
      "---  ------    --------------  ----- \n",
      " 0   aisle_id  134 non-null    int64 \n",
      " 1   aisle     134 non-null    object\n",
      "dtypes: int64(1), object(1)\n",
      "memory usage: 2.2+ KB\n"
     ]
    }
   ],
   "source": [
    "aisles = pd.read_csv('aisles.csv', sep=';')\n",
    "aisles.info()"
   ]
  },
  {
   "cell_type": "code",
   "execution_count": 12,
   "id": "6aef7eb9",
   "metadata": {},
   "outputs": [
    {
     "name": "stdout",
     "output_type": "stream",
     "text": [
      "<class 'pandas.core.frame.DataFrame'>\n",
      "RangeIndex: 21 entries, 0 to 20\n",
      "Data columns (total 2 columns):\n",
      " #   Column         Non-Null Count  Dtype \n",
      "---  ------         --------------  ----- \n",
      " 0   department_id  21 non-null     int64 \n",
      " 1   department     21 non-null     object\n",
      "dtypes: int64(1), object(1)\n",
      "memory usage: 468.0+ bytes\n"
     ]
    }
   ],
   "source": [
    "departments = pd.read_csv('departments.csv', sep=';')\n",
    "departments.info()"
   ]
  },
  {
   "cell_type": "code",
   "execution_count": 8,
   "id": "657db4f6",
   "metadata": {},
   "outputs": [
    {
     "name": "stdout",
     "output_type": "stream",
     "text": [
      "<class 'pandas.core.frame.DataFrame'>\n",
      "RangeIndex: 4545007 entries, 0 to 4545006\n",
      "Data columns (total 4 columns):\n",
      " #   Column             Non-Null Count    Dtype  \n",
      "---  ------             --------------    -----  \n",
      " 0   order_id           4545007 non-null  int64  \n",
      " 1   product_id         4545007 non-null  int64  \n",
      " 2   add_to_cart_order  4544171 non-null  float64\n",
      " 3   reordered          4545007 non-null  int64  \n",
      "dtypes: float64(1), int64(3)\n",
      "memory usage: 138.7 MB\n"
     ]
    }
   ],
   "source": [
    "order_products = pd.read_csv('order_products.csv', sep=';')\n",
    "order_products.info(show_counts=True )"
   ]
  },
  {
   "cell_type": "markdown",
   "id": "ae943f4c",
   "metadata": {},
   "source": [
    "Se realizó la separaciónde cada uno de los archivos y se les realizo una solicitud para conocer la información que contiene cada uno"
   ]
  },
  {
   "cell_type": "markdown",
   "id": "2d217d70",
   "metadata": {},
   "source": [
    "Se trabajará con cada archivo, se les realizará diversos analisis para tener una información más precisa de cada uno"
   ]
  },
  {
   "cell_type": "markdown",
   "id": "b3d36be5",
   "metadata": {},
   "source": [
    "Se Iniicará el trabajo con el Archivo \"orders\""
   ]
  },
  {
   "cell_type": "code",
   "execution_count": 4,
   "id": "92a67f08",
   "metadata": {},
   "outputs": [
    {
     "data": {
      "text/plain": [
       "np.int64(15)"
      ]
     },
     "execution_count": 4,
     "metadata": {},
     "output_type": "execute_result"
    }
   ],
   "source": [
    "orders.duplicated().sum()"
   ]
  },
  {
   "cell_type": "markdown",
   "id": "20404cd9",
   "metadata": {},
   "source": [
    "# Verifica todos los pedidos que se hicieron el miércoles a las 2:00 a.m."
   ]
  },
  {
   "cell_type": "code",
   "execution_count": 5,
   "id": "82165f02",
   "metadata": {},
   "outputs": [
    {
     "name": "stdout",
     "output_type": "stream",
     "text": [
      "        order_id  user_id  order_number  order_dow  order_hour_of_day  \\\n",
      "4838     2766110   162084            41          3                  2   \n",
      "5156     2190225   138285            18          3                  2   \n",
      "15506     553049    58599            13          3                  2   \n",
      "18420     382357   120200            19          3                  2   \n",
      "24691     690242    77357             2          3                  2   \n",
      "...          ...      ...           ...        ...                ...   \n",
      "457013   3384021    14881             6          3                  2   \n",
      "458816    910166   164782            18          3                  2   \n",
      "459635   1680532   106435             6          3                  2   \n",
      "468324    222962    54979            59          3                  2   \n",
      "477526   2592344    46860            38          3                  2   \n",
      "\n",
      "        days_since_prior_order  \n",
      "4838                      16.0  \n",
      "5156                      11.0  \n",
      "15506                      7.0  \n",
      "18420                     11.0  \n",
      "24691                      9.0  \n",
      "...                        ...  \n",
      "457013                    30.0  \n",
      "458816                     4.0  \n",
      "459635                    21.0  \n",
      "468324                     3.0  \n",
      "477526                     3.0  \n",
      "\n",
      "[121 rows x 6 columns]\n"
     ]
    }
   ],
   "source": [
    "print(orders.query(\"order_dow == 3 & order_hour_of_day == 2\"))"
   ]
  },
  {
   "cell_type": "code",
   "execution_count": 6,
   "id": "e1412e7b",
   "metadata": {},
   "outputs": [
    {
     "name": "stdout",
     "output_type": "stream",
     "text": [
      "0\n"
     ]
    }
   ],
   "source": [
    "# Elimina los pedidos duplicados\n",
    "orders = orders.drop_duplicates()\n",
    "print(orders.duplicated().sum())"
   ]
  },
  {
   "cell_type": "code",
   "execution_count": 7,
   "id": "119706c4",
   "metadata": {},
   "outputs": [
    {
     "name": "stdout",
     "output_type": "stream",
     "text": [
      "0\n"
     ]
    }
   ],
   "source": [
    "# Elimina los pedidos duplicados\n",
    "orders = orders.drop_duplicates()\n",
    "print(orders.duplicated().sum())"
   ]
  },
  {
   "cell_type": "code",
   "execution_count": 8,
   "id": "ba4f8ae4",
   "metadata": {},
   "outputs": [
    {
     "name": "stdout",
     "output_type": "stream",
     "text": [
      "0\n"
     ]
    }
   ],
   "source": [
    "# Vuelve a verificar si hay filas duplicadas\n",
    "orders.drop_duplicates(inplace=True)\n",
    "\n",
    "print(orders.duplicated().sum())"
   ]
  },
  {
   "cell_type": "code",
   "execution_count": null,
   "id": "f6fe7002",
   "metadata": {},
   "outputs": [],
   "source": [
    "# Vuelve a verificar únicamente si hay IDs duplicados de pedidos\n",
    "print(orders['order_id'].duplicated().sum())\n",
    "orders.reset_index(drop=True)"
   ]
  },
  {
   "cell_type": "markdown",
   "id": "87405fb1",
   "metadata": {},
   "source": [
    "products data frame"
   ]
  },
  {
   "cell_type": "code",
   "execution_count": 9,
   "id": "0aaf7330",
   "metadata": {},
   "outputs": [
    {
     "name": "stdout",
     "output_type": "stream",
     "text": [
      "0\n"
     ]
    }
   ],
   "source": [
    "# Verifica si hay filas totalmente duplicadas\n",
    "\n",
    "print(products.duplicated().sum())"
   ]
  },
  {
   "cell_type": "code",
   "execution_count": 10,
   "id": "9fed2d1c",
   "metadata": {},
   "outputs": [
    {
     "name": "stdout",
     "output_type": "stream",
     "text": [
      "49673\n"
     ]
    }
   ],
   "source": [
    "# Revisa únicamente si hay ID de departamentos duplicados\n",
    "print(products['department_id'].duplicated().sum())"
   ]
  },
  {
   "cell_type": "code",
   "execution_count": null,
   "id": "d418650c",
   "metadata": {},
   "outputs": [],
   "source": [
    "# Revisa únicamente si hay nombres duplicados de productos (convierte los nombres a letras mayúsculas para compararlos mejor)\n",
    "print(products['product_name'].str.upper().duplicated().sum())"
   ]
  },
  {
   "cell_type": "code",
   "execution_count": null,
   "id": "3f6bf82d",
   "metadata": {},
   "outputs": [],
   "source": [
    "# Revisa si hay nombres duplicados de productos no faltantes\n",
    "\n",
    "duplicates = products[products['product_name'].duplicated(keep=False)]\n",
    "print(duplicates)\n"
   ]
  },
  {
   "cell_type": "markdown",
   "id": "906b5867",
   "metadata": {},
   "source": [
    "departments data frame"
   ]
  },
  {
   "cell_type": "code",
   "execution_count": 13,
   "id": "fbc8dacf",
   "metadata": {},
   "outputs": [
    {
     "name": "stdout",
     "output_type": "stream",
     "text": [
      "0\n"
     ]
    }
   ],
   "source": [
    "# Revisa si hay filas totalmente duplicadas\n",
    "print(departments.duplicated().sum())\n"
   ]
  },
  {
   "cell_type": "markdown",
   "id": "a455b104",
   "metadata": {},
   "source": [
    "aisles data frame"
   ]
  },
  {
   "cell_type": "code",
   "execution_count": null,
   "id": "e008bd41",
   "metadata": {},
   "outputs": [],
   "source": [
    "# Revisa si hay filas totalmente duplicadas\n",
    "print(aisles.duplicated().sum())"
   ]
  },
  {
   "cell_type": "code",
   "execution_count": 14,
   "id": "5f7ef0ac",
   "metadata": {},
   "outputs": [
    {
     "ename": "NameError",
     "evalue": "name 'aisles' is not defined",
     "output_type": "error",
     "traceback": [
      "\u001b[1;31m---------------------------------------------------------------------------\u001b[0m",
      "\u001b[1;31mNameError\u001b[0m                                 Traceback (most recent call last)",
      "Cell \u001b[1;32mIn[14], line 2\u001b[0m\n\u001b[0;32m      1\u001b[0m \u001b[38;5;66;03m# Revisa únicamente si hay IDs duplicadas de pasillos\u001b[39;00m\n\u001b[1;32m----> 2\u001b[0m \u001b[38;5;28mprint\u001b[39m(\u001b[43maisles\u001b[49m[\u001b[38;5;124m'\u001b[39m\u001b[38;5;124maisle_id\u001b[39m\u001b[38;5;124m'\u001b[39m]\u001b[38;5;241m.\u001b[39mduplicated()\u001b[38;5;241m.\u001b[39msum())\n",
      "\u001b[1;31mNameError\u001b[0m: name 'aisles' is not defined"
     ]
    }
   ],
   "source": [
    "# Revisa únicamente si hay IDs duplicadas de pasillos\n",
    "print(aisles['aisle_id'].duplicated().sum())"
   ]
  },
  {
   "cell_type": "markdown",
   "id": "6257b73b",
   "metadata": {},
   "source": [
    "order_products data frame"
   ]
  },
  {
   "cell_type": "code",
   "execution_count": 15,
   "id": "2cf49c11",
   "metadata": {},
   "outputs": [
    {
     "ename": "NameError",
     "evalue": "name 'order_products' is not defined",
     "output_type": "error",
     "traceback": [
      "\u001b[1;31m---------------------------------------------------------------------------\u001b[0m",
      "\u001b[1;31mNameError\u001b[0m                                 Traceback (most recent call last)",
      "Cell \u001b[1;32mIn[15], line 3\u001b[0m\n\u001b[0;32m      1\u001b[0m \u001b[38;5;66;03m# Revisa si hay filas totalmente duplicadas\u001b[39;00m\n\u001b[1;32m----> 3\u001b[0m \u001b[38;5;28mprint\u001b[39m(\u001b[43morder_products\u001b[49m\u001b[38;5;241m.\u001b[39mduplicated()\u001b[38;5;241m.\u001b[39msum())\n",
      "\u001b[1;31mNameError\u001b[0m: name 'order_products' is not defined"
     ]
    }
   ],
   "source": [
    "# Revisa si hay filas totalmente duplicadas\n",
    "\n",
    "print(order_products.duplicated().sum())"
   ]
  },
  {
   "cell_type": "code",
   "execution_count": null,
   "id": "dc9ce2c1",
   "metadata": {},
   "outputs": [],
   "source": [
    "# Vuelve a verificar si hay cualquier otro duplicado engañoso\n",
    "order_products = order_products.drop_duplicates()\n",
    "print(order_products.duplicated().sum())\n",
    "order_products.reset_index(drop=True)"
   ]
  },
  {
   "cell_type": "markdown",
   "id": "a22b1d2b",
   "metadata": {},
   "source": [
    "products data frame"
   ]
  },
  {
   "cell_type": "code",
   "execution_count": null,
   "id": "33fb79d8",
   "metadata": {},
   "outputs": [],
   "source": [
    "# Encuentra los valores ausentes en la columna 'product_name'\n",
    "\n",
    "print(products['product_name'].isna().sum())"
   ]
  },
  {
   "cell_type": "code",
   "execution_count": null,
   "id": "b1e1ccf0",
   "metadata": {},
   "outputs": [],
   "source": [
    "#  ¿Todos los nombres de productos ausentes están relacionados con el pasillo con ID 100?\n",
    "missing_products = products[products['product_name'].isnull()]\n",
    "missing = (missing_products['aisle_id'] == 100).all()\n",
    "print(missing)"
   ]
  },
  {
   "cell_type": "markdown",
   "id": "733db88c",
   "metadata": {},
   "source": [
    "Existen muchas fallas en este pasillo, revisar como se esta trabajando en recepción y acomodo de productos, inventarios"
   ]
  },
  {
   "cell_type": "code",
   "execution_count": null,
   "id": "1c4f9030",
   "metadata": {},
   "outputs": [],
   "source": [
    "# ¿Todos los nombres de productos ausentes están relacionados con el departamento con ID 21?\n",
    "missing_products_1 = products[products['product_name'].isnull()]\n",
    "missing_1 = (missing_products_1['department_id'] == 21).all()\n",
    "print(missing)"
   ]
  },
  {
   "cell_type": "markdown",
   "id": "91747d4c",
   "metadata": {},
   "source": [
    "Se ve que no hubo un buen manejo de inventario en el departamento 21 y el pasillo 100"
   ]
  },
  {
   "cell_type": "code",
   "execution_count": null,
   "id": "9440f7d2",
   "metadata": {},
   "outputs": [],
   "source": [
    "# Usa las tablas department y aisle para revisar los datos del pasillo con ID 100 y el departamento con ID 21.\n",
    "aisle_filtered = products.query('aisle_id == 100')\n",
    "department_filtered = products.query('department_id == 21')\n",
    "print(aisle_filtered)\n",
    "print(department_filtered)"
   ]
  },
  {
   "cell_type": "markdown",
   "id": "45bc96ca",
   "metadata": {},
   "source": [
    "La falta de datos esta relacionada con fallas en el almacenaje y falta de orden"
   ]
  },
  {
   "cell_type": "code",
   "execution_count": null,
   "id": "2d3c0979",
   "metadata": {},
   "outputs": [],
   "source": [
    "# Completa los nombres de productos ausentes con 'Unknown'\n",
    "products.fillna('unknown', inplace = True)\n",
    "print(products)"
   ]
  },
  {
   "cell_type": "markdown",
   "id": "ea81a04d",
   "metadata": {},
   "source": [
    "Se encotró el origen de la falta de datos, se realizo modificaciones para que se vea donde faltan corregir y tener una buena base de datos que ayuden a la logistica, se solicitará más atención en la recopilación de datos esto ayudara a un mejor trabajo"
   ]
  },
  {
   "cell_type": "markdown",
   "id": "51b96749",
   "metadata": {},
   "source": [
    "orders data frame"
   ]
  },
  {
   "cell_type": "code",
   "execution_count": null,
   "id": "a5819497",
   "metadata": {},
   "outputs": [],
   "source": [
    "# Encuentra los valores ausentes\n",
    "print(orders.isnull().sum())"
   ]
  },
  {
   "cell_type": "code",
   "execution_count": null,
   "id": "bb936c99",
   "metadata": {},
   "outputs": [],
   "source": [
    "# Hay algún valor ausente que no sea el primer pedido del cliente?\n",
    "value = orders.loc[:, orders.columns != 'order_number'].isnull().sum()\n",
    "print(value)"
   ]
  },
  {
   "cell_type": "markdown",
   "id": "1753dd4a",
   "metadata": {},
   "source": [
    "order_products data frame"
   ]
  },
  {
   "cell_type": "code",
   "execution_count": null,
   "id": "dfa799cd",
   "metadata": {},
   "outputs": [],
   "source": [
    "# Encuentra los valores ausentes\n",
    "print(order_products.isnull().sum())"
   ]
  },
  {
   "cell_type": "code",
   "execution_count": null,
   "id": "4568adfb",
   "metadata": {},
   "outputs": [],
   "source": [
    "# ¿Cuáles son los valores mínimos y máximos en esta columna?\n",
    "min_max = order_products['add_to_cart_order'].min(), order_products['add_to_cart_order'].max() \n",
    "print(min_max)"
   ]
  },
  {
   "cell_type": "markdown",
   "id": "dced63a5",
   "metadata": {},
   "source": [
    "Al realizar la exploración de los datos, se encuentra la falta de datos , se debe trabajar con más detalle en la recopilación, estar seguros que todo se cargo y guardo correctamente en la base de datos\n",
    "\n"
   ]
  },
  {
   "cell_type": "code",
   "execution_count": null,
   "id": "e2f4eab7",
   "metadata": {},
   "outputs": [],
   "source": [
    "# Guarda todas las IDs de pedidos que tengan un valor ausente en 'add_to_cart_order'\n",
    "missing_value = order_products[order_products['add_to_cart_order'].isna()]\n",
    "iDs = missing_value['order_id'].tolist()"
   ]
  },
  {
   "cell_type": "code",
   "execution_count": null,
   "id": "1ebcd70b",
   "metadata": {},
   "outputs": [],
   "source": [
    "# ¿Todos los pedidos con valores ausentes tienen más de 64 productos?\n",
    "order_value = order_products[order_products.isnull().any(axis=1)]\n",
    "products_2 = order_value.groupby('order_id')['product_id'].count()\n",
    "all_64 = (products_2 > 64).all()\n",
    "print(all_64)"
   ]
  },
  {
   "cell_type": "code",
   "execution_count": null,
   "id": "504096e5",
   "metadata": {},
   "outputs": [],
   "source": [
    "# Agrupa todos los pedidos con datos ausentes por su ID de pedido.\n",
    "\n",
    "id_missing = order_products[order_products.isnull().any(axis=1)]\n",
    "order_1 = id_missing['order_id'].unique()\n",
    "print(order_1)"
   ]
  },
  {
   "cell_type": "code",
   "execution_count": null,
   "id": "0e962e61",
   "metadata": {},
   "outputs": [],
   "source": [
    "# Cuenta el número de 'product_id' en cada pedido y revisa el valor mínimo del conteo.\n",
    "product_3= order_products.groupby('order_id')['product_id'].count()\n",
    "\n",
    "min = product_3.min()\n",
    "print(min)"
   ]
  },
  {
   "cell_type": "markdown",
   "id": "baa4643d",
   "metadata": {},
   "source": [
    "se encuentran datos faltantes y se tiene que trabajar en la recopilación de los mismos, no dar por echo hasta confirmar que estan guardados como el procedimiento lo solicita"
   ]
  },
  {
   "cell_type": "code",
   "execution_count": null,
   "id": "ccc644d9",
   "metadata": {},
   "outputs": [],
   "source": [
    "# Remplaza los valores ausentes en la columna 'add_to_cart con 999 y convierte la columna al tipo entero.\n",
    "order_products['add_to_cart_order'].fillna('999', inplace = True)\n",
    "order_products['add_to_cart_order'] = order_products['add_to_cart_order'].astype(int)\n",
    "print(order_products['add_to_cart_order'].unique())"
   ]
  },
  {
   "cell_type": "markdown",
   "id": "7854a8d9",
   "metadata": {},
   "source": [
    "La información no se recopila adecuadamente, errores al llenar los datos, no se sigue el procedimiento, solicitar más capacitación, la manera en que se recopila los datos, se puede mejorar?, como se puede apoyar a mejorar."
   ]
  },
  {
   "cell_type": "markdown",
   "id": "3481da10",
   "metadata": {},
   "source": [
    "#Verifica que los valores sean los adecuados y los que se requieren para seguir trabajando"
   ]
  },
  {
   "cell_type": "markdown",
   "id": "549b2781",
   "metadata": {},
   "source": [
    "Hora del pedido del dia"
   ]
  },
  {
   "cell_type": "code",
   "execution_count": null,
   "id": "4319c1ec",
   "metadata": {},
   "outputs": [],
   "source": [
    "orders.order_hour_of_day.unique()\n"
   ]
  },
  {
   "cell_type": "code",
   "execution_count": null,
   "id": "c0a781ed",
   "metadata": {},
   "outputs": [],
   "source": [
    "print(np.sort(orders.order_hour_of_day))"
   ]
  },
  {
   "cell_type": "markdown",
   "id": "3967aa60",
   "metadata": {},
   "source": [
    "Dia de la Semana del Pedido"
   ]
  },
  {
   "cell_type": "code",
   "execution_count": null,
   "id": "6c933343",
   "metadata": {},
   "outputs": [],
   "source": [
    "orders.order_dow.unique()\n"
   ]
  },
  {
   "cell_type": "code",
   "execution_count": null,
   "id": "92b654e5",
   "metadata": {},
   "outputs": [],
   "source": [
    "print(np.sort(orders.order_dow))"
   ]
  }
 ],
 "metadata": {
  "kernelspec": {
   "display_name": "Python 3",
   "language": "python",
   "name": "python3"
  },
  "language_info": {
   "codemirror_mode": {
    "name": "ipython",
    "version": 3
   },
   "file_extension": ".py",
   "mimetype": "text/x-python",
   "name": "python",
   "nbconvert_exporter": "python",
   "pygments_lexer": "ipython3",
   "version": "3.13.3"
  }
 },
 "nbformat": 4,
 "nbformat_minor": 5
}
